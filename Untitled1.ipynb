{
 "cells": [
  {
   "cell_type": "code",
   "execution_count": 2,
   "id": "6efd1582-7bdb-4a74-8965-0c3a81c65fba",
   "metadata": {
    "tags": []
   },
   "outputs": [
    {
     "name": "stdin",
     "output_type": "stream",
     "text": [
      "enter your name:  zainab\n"
     ]
    }
   ],
   "source": [
    "name=input(\"enter your name: \")"
   ]
  },
  {
   "cell_type": "code",
   "execution_count": 18,
   "id": "7bcc9bd2-3560-4f78-a46a-4dc1064da986",
   "metadata": {
    "tags": []
   },
   "outputs": [
    {
     "name": "stdin",
     "output_type": "stream",
     "text": [
      "enter your weight in pounds:  170\n"
     ]
    }
   ],
   "source": [
    "weight=int(input(\"enter your weight in pounds: \"))"
   ]
  },
  {
   "cell_type": "code",
   "execution_count": 22,
   "id": "8b442188-761e-42fe-a803-c21b719da792",
   "metadata": {
    "tags": []
   },
   "outputs": [
    {
     "name": "stdin",
     "output_type": "stream",
     "text": [
      "enter your height in inches:  69\n"
     ]
    }
   ],
   "source": [
    "height=int(input(\"enter your height in inches: \"))"
   ]
  },
  {
   "cell_type": "code",
   "execution_count": 25,
   "id": "92d1af80-c184-443c-90b0-4f5f59ae396d",
   "metadata": {
    "tags": []
   },
   "outputs": [],
   "source": [
    "BMI=(weight*703)/(height*height)"
   ]
  },
  {
   "cell_type": "code",
   "execution_count": 26,
   "id": "cfeb31c0-f25c-4bd9-a1a7-58bee72c0914",
   "metadata": {
    "tags": []
   },
   "outputs": [
    {
     "name": "stdout",
     "output_type": "stream",
     "text": [
      "25.101869355177485\n"
     ]
    }
   ],
   "source": [
    "print(BMI)"
   ]
  },
  {
   "cell_type": "code",
   "execution_count": 30,
   "id": "96154253-75e2-4663-8f2c-dc4f4fb8c59c",
   "metadata": {
    "tags": []
   },
   "outputs": [
    {
     "name": "stdout",
     "output_type": "stream",
     "text": [
      "zainab , you are over weight\n"
     ]
    }
   ],
   "source": [
    "if(BMI>0):\n",
    "    if(BMI<18.5):\n",
    "        print(name+\", you are under weight\")\n",
    "    elif (BMI<=24.9):\n",
    "        print(name+\",  you are normal weight\")\n",
    "    elif (BMI<29.9):\n",
    "        print(name+\" , you are over weight\")\n",
    "    elif (BMI<34.9):\n",
    "        print(name+\" , you are obese\")\n",
    "    elif (BMI<39.9):\n",
    "        print(name+\" , you are severly obese \")\n",
    "    else:\n",
    "        print (name+\", you are very very obese\")\n",
    "else:\n",
    "    print(\"please enter valid inf \")"
   ]
  },
  {
   "cell_type": "code",
   "execution_count": null,
   "id": "aa0c82c0-8e22-4d38-9063-22fb3372b55c",
   "metadata": {},
   "outputs": [],
   "source": []
  }
 ],
 "metadata": {
  "kernelspec": {
   "display_name": "Python 3 (ipykernel)",
   "language": "python",
   "name": "python3"
  },
  "language_info": {
   "codemirror_mode": {
    "name": "ipython",
    "version": 3
   },
   "file_extension": ".py",
   "mimetype": "text/x-python",
   "name": "python",
   "nbconvert_exporter": "python",
   "pygments_lexer": "ipython3",
   "version": "3.11.4"
  }
 },
 "nbformat": 4,
 "nbformat_minor": 5
}
